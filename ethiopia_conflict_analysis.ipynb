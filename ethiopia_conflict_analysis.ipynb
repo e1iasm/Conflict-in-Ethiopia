{
 "cells": [
  {
   "cell_type": "markdown",
   "id": "e087593e",
   "metadata": {},
   "source": [
    "#  Understanding Political Violence in Ethiopia\n",
    "\n",
    "#### Elias & Selamawit, last updated Dec 1,  2023"
   ]
  },
  {
   "cell_type": "markdown",
   "id": "1257d149",
   "metadata": {},
   "source": [
    "## Table of Contents\n",
    "\n",
    "- ### [<font color = 'brown'> 1. Introduction </font>](#1.)\n",
    "    - #### [<font color = 'seagreen'> 1.1. Project Summary </font>](#1.1.)\n",
    "    - #### [<font color = 'seagreen'> 1.2. About the Data </font>](#1.2.)\n",
    "- ### [<font color = 'brown'> 2. Data Preparation </font>](#2.)\n",
    "    - #### [<font color = 'seagreen'> 2.1. Import Libraries </font>](#2.1.)\n",
    "    - #### [<font color = 'seagreen'> 2.2. Load the Data </font>](#2.2.)\n",
    "    - #### [<font color = 'seagreen'> 2.3. Clean the Data </font>](#2.3.)\n",
    "- ### [<font color = 'brown'> 3. Data Analysis  </font>](#3.)\n",
    "    - #### [<font color = 'seagreen'> 3.1. Fatality Rate Over the Years </font>](#3.1.)\n",
    "    - #### [<font color = 'seagreen'> 3.2. What kinds of events are the frequent reasons for conflict? </font>](#3.2.)\n",
    "    - #### [<font color = 'seagreen'> 3.3 Who are the major actors? </font>](#3.3.)\n",
    "    - #### [<font color = 'seagreen'> 3.4. Which places are most prone to conflict? </font>](#3.4.)\n",
    "    - #### [<font color = 'seagreen'> 3.5. Which media(s) has been the main source(s) of the conflict news </font>](#3.5.)\n",
    "    - #### [<font color = 'seagreen'> 3.6. Is there a correlation between specific actor interactions and the level of violence in conflict events? </font>](#3.6.)\n",
    "    - #### [<font color = 'seagreen'> 3.7. How do different administrative divisions (ADMIN1, ADMIN2, ADMIN3) relate to the frequency and nature of conflict events? </font>](#3.7.)\n",
    "- ### [<font color = 'brown'> 4. Conclusions and Recommendations </font>](#4.)\n",
    "    - #### [<font color = 'seagreen'> 4.1. Conclusions </font>](#4.1.)\n",
    "    - #### [<font color = 'seagreen'> 4.2. Recommendations </font>](#4.2.)"
   ]
  },
  {
   "cell_type": "markdown",
   "id": "8c3a12de",
   "metadata": {},
   "source": [
    "# <a id=\"1.\"><font color = \"brown\"> 1. Introduction </font> </a>\n",
    "\n",
    "## <a id=\"1.1.\"><font color = \"seagreen\"> 1.1. Project Summary </font> </a>\n",
    "\n",
    "    This project aims to provide a comprehensive analysis of political violence in Ethiopia by leveraging the ACLED dataset. The dataset contains detailed information on conflict events, including actors, event types, locations, and fatalities. Through exploratory data analysis (EDA), we will uncover insights into the dynamics of political violence, patterns of actor interactions, and geographical trends within Ethiopia. By examining this data, we seek to better understand the nature and context of political conflicts in the region.\n",
    "\n",
    "This project will answer the following questions:\n",
    "    \n",
    "**1. What are the fatality rates?**\n",
    "\n",
    "**2. What kinds of events are the frequent reasons for conflict?**\n",
    "\n",
    "**3. Who are the major actors?**\n",
    "\n",
    "**4. Which places are most prone to conflict?**\n",
    "\n",
    "**5. Which media(s) has been the main source(s) of the conflict news**\n",
    "\n",
    "**6. Is there a correlation between specific actor interactions and the level of violence in conflict events?**\n",
    "\n",
    "**7. What is the impact of civilian targeting in conflict events, and are there any trends related to this?**\n",
    "\n",
    "**8. How do different administrative divisions (ADMIN1, ADMIN2, ADMIN3) relate to the frequency and nature of conflict events?**"
   ]
  },
  {
   "cell_type": "markdown",
   "id": "643c2a94",
   "metadata": {},
   "source": [
    "## <a id=\"1.2.\"><font color = \"seagreen\"> 1.2. About the Data </font></a>"
   ]
  },
  {
   "cell_type": "markdown",
   "id": "8826cf13",
   "metadata": {},
   "source": [
    "The data was last updated on 20 October 2023\n",
    "\n",
    "Copyright: © 2023 ACLED All rights reserved.\n",
    "\n",
    "Users must adhere to ACLED’s Terms of Use, utilizing data responsibly and in good faith. Attribution Policy requires clear acknowledgment of ACLED in any use, specifying the date of access, manipulated data details, and proper citation formats. ACLED encourages responsible academic use but monitors and addresses misuse.\n",
    "\n",
    "The dataset contains 10660 observation of 31 variables.\n",
    "\n",
    "The dataset was obtained from: ACLED Conflict Data for Africa and sorted only Ethiopia’s data for the analysis purpose.\n",
    "\n",
    "→ The dataset used for this analysis fillterd only for the country Ethiopia."
   ]
  },
  {
   "cell_type": "markdown",
   "id": "691d43de",
   "metadata": {},
   "source": [
    "# <a id=\"2.\"><font color = \"brown\"> 2. Data Preparation </font></a>"
   ]
  },
  {
   "cell_type": "markdown",
   "id": "a1b686e9",
   "metadata": {},
   "source": [
    "## <a id=\"2.1.\"><font color = \"seagreen\"> 2.1. Import Libraries </font></a>"
   ]
  },
  {
   "cell_type": "code",
   "execution_count": 119,
   "id": "ecb527c9",
   "metadata": {},
   "outputs": [],
   "source": [
    "# For data manipulation\n",
    "import pandas as pd  \n",
    "\n",
    "# For data visualization\n",
    "import matplotlib.pyplot as plt \n",
    "\n",
    " # For data computation\n",
    "import numpy as np             "
   ]
  },
  {
   "cell_type": "markdown",
   "id": "e0c79ca9",
   "metadata": {},
   "source": [
    "## <a id=\"2.2.\"><font color = \"seagreen\"> 2.2. Load the Data </font></a>"
   ]
  },
  {
   "cell_type": "code",
   "execution_count": 120,
   "id": "8a64b31f",
   "metadata": {},
   "outputs": [
    {
     "data": {
      "text/html": [
       "<div>\n",
       "<style scoped>\n",
       "    .dataframe tbody tr th:only-of-type {\n",
       "        vertical-align: middle;\n",
       "    }\n",
       "\n",
       "    .dataframe tbody tr th {\n",
       "        vertical-align: top;\n",
       "    }\n",
       "\n",
       "    .dataframe thead th {\n",
       "        text-align: right;\n",
       "    }\n",
       "</style>\n",
       "<table border=\"1\" class=\"dataframe\">\n",
       "  <thead>\n",
       "    <tr style=\"text-align: right;\">\n",
       "      <th></th>\n",
       "      <th>EVENT_ID_CNTY</th>\n",
       "      <th>EVENT_DATE</th>\n",
       "      <th>YEAR</th>\n",
       "      <th>TIME_PRECISION</th>\n",
       "      <th>DISORDER_TYPE</th>\n",
       "      <th>EVENT_TYPE</th>\n",
       "      <th>SUB_EVENT_TYPE</th>\n",
       "      <th>ACTOR1</th>\n",
       "      <th>ASSOC_ACTOR_1</th>\n",
       "      <th>INTER1</th>\n",
       "      <th>...</th>\n",
       "      <th>LOCATION</th>\n",
       "      <th>LATITUDE</th>\n",
       "      <th>LONGITUDE</th>\n",
       "      <th>GEO_PRECISION</th>\n",
       "      <th>SOURCE</th>\n",
       "      <th>SOURCE_SCALE</th>\n",
       "      <th>NOTES</th>\n",
       "      <th>FATALITIES</th>\n",
       "      <th>TAGS</th>\n",
       "      <th>TIMESTAMP</th>\n",
       "    </tr>\n",
       "  </thead>\n",
       "  <tbody>\n",
       "    <tr>\n",
       "      <th>0</th>\n",
       "      <td>ETH10805</td>\n",
       "      <td>2023-10-20</td>\n",
       "      <td>2023</td>\n",
       "      <td>2</td>\n",
       "      <td>Political violence</td>\n",
       "      <td>Battles</td>\n",
       "      <td>Armed clash</td>\n",
       "      <td>OLF: Oromo Liberation Front (Shane Splinter Fa...</td>\n",
       "      <td>NaN</td>\n",
       "      <td>2</td>\n",
       "      <td>...</td>\n",
       "      <td>Gundo Meskel</td>\n",
       "      <td>10.250</td>\n",
       "      <td>38.733</td>\n",
       "      <td>2</td>\n",
       "      <td>Wazema Radio</td>\n",
       "      <td>New media</td>\n",
       "      <td>Around 20 October 2023 (as reported), OLF Shan...</td>\n",
       "      <td>3</td>\n",
       "      <td>NaN</td>\n",
       "      <td>1698071505</td>\n",
       "    </tr>\n",
       "    <tr>\n",
       "      <th>1</th>\n",
       "      <td>ETH10816</td>\n",
       "      <td>2023-10-20</td>\n",
       "      <td>2023</td>\n",
       "      <td>2</td>\n",
       "      <td>Political violence</td>\n",
       "      <td>Battles</td>\n",
       "      <td>Armed clash</td>\n",
       "      <td>OLF: Oromo Liberation Front (Shane Splinter Fa...</td>\n",
       "      <td>NaN</td>\n",
       "      <td>2</td>\n",
       "      <td>...</td>\n",
       "      <td>Bake Kelate</td>\n",
       "      <td>9.614</td>\n",
       "      <td>37.985</td>\n",
       "      <td>2</td>\n",
       "      <td>Addis Maleda</td>\n",
       "      <td>National</td>\n",
       "      <td>Around 20 October 2023 (as reported), OLF Shan...</td>\n",
       "      <td>10</td>\n",
       "      <td>NaN</td>\n",
       "      <td>1698071505</td>\n",
       "    </tr>\n",
       "    <tr>\n",
       "      <th>2</th>\n",
       "      <td>ETH10840</td>\n",
       "      <td>2023-10-20</td>\n",
       "      <td>2023</td>\n",
       "      <td>2</td>\n",
       "      <td>Strategic developments</td>\n",
       "      <td>Strategic developments</td>\n",
       "      <td>Other</td>\n",
       "      <td>Police Forces of Ethiopia (2018-) Oromia State...</td>\n",
       "      <td>NaN</td>\n",
       "      <td>1</td>\n",
       "      <td>...</td>\n",
       "      <td>Ano</td>\n",
       "      <td>9.093</td>\n",
       "      <td>36.958</td>\n",
       "      <td>1</td>\n",
       "      <td>ESAT</td>\n",
       "      <td>International</td>\n",
       "      <td>Non-violent activity: Around 20 October 2023 (...</td>\n",
       "      <td>0</td>\n",
       "      <td>NaN</td>\n",
       "      <td>1698071505</td>\n",
       "    </tr>\n",
       "    <tr>\n",
       "      <th>3</th>\n",
       "      <td>ETH10799</td>\n",
       "      <td>2023-10-19</td>\n",
       "      <td>2023</td>\n",
       "      <td>1</td>\n",
       "      <td>Political violence</td>\n",
       "      <td>Violence against civilians</td>\n",
       "      <td>Abduction/forced disappearance</td>\n",
       "      <td>OLF: Oromo Liberation Front (Shane Splinter Fa...</td>\n",
       "      <td>NaN</td>\n",
       "      <td>2</td>\n",
       "      <td>...</td>\n",
       "      <td>Fiche</td>\n",
       "      <td>9.800</td>\n",
       "      <td>38.733</td>\n",
       "      <td>1</td>\n",
       "      <td>EMS</td>\n",
       "      <td>Other</td>\n",
       "      <td>On 19 October 2023, OLF Shane abducted nine Ch...</td>\n",
       "      <td>0</td>\n",
       "      <td>NaN</td>\n",
       "      <td>1698071505</td>\n",
       "    </tr>\n",
       "    <tr>\n",
       "      <th>4</th>\n",
       "      <td>ETH10803</td>\n",
       "      <td>2023-10-19</td>\n",
       "      <td>2023</td>\n",
       "      <td>1</td>\n",
       "      <td>Political violence</td>\n",
       "      <td>Battles</td>\n",
       "      <td>Armed clash</td>\n",
       "      <td>Military Forces of Ethiopia (2018-)</td>\n",
       "      <td>NaN</td>\n",
       "      <td>1</td>\n",
       "      <td>...</td>\n",
       "      <td>Bure</td>\n",
       "      <td>10.700</td>\n",
       "      <td>37.067</td>\n",
       "      <td>2</td>\n",
       "      <td>EMS</td>\n",
       "      <td>Other</td>\n",
       "      <td>On 19 October 2023, ENDF and Fano clashed at W...</td>\n",
       "      <td>10</td>\n",
       "      <td>NaN</td>\n",
       "      <td>1698071505</td>\n",
       "    </tr>\n",
       "  </tbody>\n",
       "</table>\n",
       "<p>5 rows × 31 columns</p>\n",
       "</div>"
      ],
      "text/plain": [
       "  EVENT_ID_CNTY EVENT_DATE  YEAR  TIME_PRECISION           DISORDER_TYPE  \\\n",
       "0      ETH10805 2023-10-20  2023               2      Political violence   \n",
       "1      ETH10816 2023-10-20  2023               2      Political violence   \n",
       "2      ETH10840 2023-10-20  2023               2  Strategic developments   \n",
       "3      ETH10799 2023-10-19  2023               1      Political violence   \n",
       "4      ETH10803 2023-10-19  2023               1      Political violence   \n",
       "\n",
       "                   EVENT_TYPE                  SUB_EVENT_TYPE  \\\n",
       "0                     Battles                     Armed clash   \n",
       "1                     Battles                     Armed clash   \n",
       "2      Strategic developments                           Other   \n",
       "3  Violence against civilians  Abduction/forced disappearance   \n",
       "4                     Battles                     Armed clash   \n",
       "\n",
       "                                              ACTOR1 ASSOC_ACTOR_1  INTER1  \\\n",
       "0  OLF: Oromo Liberation Front (Shane Splinter Fa...           NaN       2   \n",
       "1  OLF: Oromo Liberation Front (Shane Splinter Fa...           NaN       2   \n",
       "2  Police Forces of Ethiopia (2018-) Oromia State...           NaN       1   \n",
       "3  OLF: Oromo Liberation Front (Shane Splinter Fa...           NaN       2   \n",
       "4                Military Forces of Ethiopia (2018-)           NaN       1   \n",
       "\n",
       "   ...      LOCATION LATITUDE  LONGITUDE  GEO_PRECISION        SOURCE  \\\n",
       "0  ...  Gundo Meskel   10.250     38.733              2  Wazema Radio   \n",
       "1  ...   Bake Kelate    9.614     37.985              2  Addis Maleda   \n",
       "2  ...           Ano    9.093     36.958              1          ESAT   \n",
       "3  ...         Fiche    9.800     38.733              1           EMS   \n",
       "4  ...          Bure   10.700     37.067              2           EMS   \n",
       "\n",
       "    SOURCE_SCALE                                              NOTES  \\\n",
       "0      New media  Around 20 October 2023 (as reported), OLF Shan...   \n",
       "1       National  Around 20 October 2023 (as reported), OLF Shan...   \n",
       "2  International  Non-violent activity: Around 20 October 2023 (...   \n",
       "3          Other  On 19 October 2023, OLF Shane abducted nine Ch...   \n",
       "4          Other  On 19 October 2023, ENDF and Fano clashed at W...   \n",
       "\n",
       "  FATALITIES TAGS   TIMESTAMP  \n",
       "0          3  NaN  1698071505  \n",
       "1         10  NaN  1698071505  \n",
       "2          0  NaN  1698071505  \n",
       "3          0  NaN  1698071505  \n",
       "4         10  NaN  1698071505  \n",
       "\n",
       "[5 rows x 31 columns]"
      ]
     },
     "execution_count": 120,
     "metadata": {},
     "output_type": "execute_result"
    }
   ],
   "source": [
    "data = pd.read_excel(\"ethiopia_conflict_data.xlsx\")\n",
    "data.head()"
   ]
  },
  {
   "cell_type": "markdown",
   "id": "431f84a0",
   "metadata": {},
   "source": [
    "## <a id=\"2.3.\"><font color = \"seagreen\"> 2.3. Clean the Data </font><a/>"
   ]
  },
  {
   "cell_type": "markdown",
   "id": "8a81ab27",
   "metadata": {},
   "source": [
    "### <font color = \"seagreen\"> 2.3.1. Formatting and Deduplication </font>"
   ]
  },
  {
   "cell_type": "code",
   "execution_count": 121,
   "id": "59ae7fcd",
   "metadata": {},
   "outputs": [
    {
     "name": "stdout",
     "output_type": "stream",
     "text": [
      "Index(['event_id_cnty', 'event_date', 'year', 'time_precision',\n",
      "       'disorder_type', 'event_type', 'sub_event_type', 'actor1',\n",
      "       'assoc_actor_1', 'inter1', 'actor2', 'assoc_actor_2', 'inter2',\n",
      "       'interaction', 'civilian_targeting', 'iso', 'region', 'country',\n",
      "       'admin1', 'admin2', 'admin3', 'location', 'latitude', 'longitude',\n",
      "       'geo_precision', 'source', 'source_scale', 'notes', 'fatalities',\n",
      "       'tags', 'timestamp'],\n",
      "      dtype='object')\n"
     ]
    }
   ],
   "source": [
    "# Change the column names for consistent look\n",
    "data = data.rename(columns=lambda x: x.lower()) \n",
    "\n",
    "# Check and drop duplicates if any\n",
    "data = data.drop_duplicates() \n",
    "\n",
    "print(data.columns)"
   ]
  },
  {
   "cell_type": "markdown",
   "id": "403de1a0",
   "metadata": {},
   "source": [
    "### <font color = \"seagreen\"> 2.3.2. Improving the Data Model </font>"
   ]
  },
  {
   "cell_type": "code",
   "execution_count": 115,
   "id": "26632235",
   "metadata": {},
   "outputs": [
    {
     "data": {
      "text/html": [
       "<div>\n",
       "<style scoped>\n",
       "    .dataframe tbody tr th:only-of-type {\n",
       "        vertical-align: middle;\n",
       "    }\n",
       "\n",
       "    .dataframe tbody tr th {\n",
       "        vertical-align: top;\n",
       "    }\n",
       "\n",
       "    .dataframe thead th {\n",
       "        text-align: right;\n",
       "    }\n",
       "</style>\n",
       "<table border=\"1\" class=\"dataframe\">\n",
       "  <thead>\n",
       "    <tr style=\"text-align: right;\">\n",
       "      <th></th>\n",
       "      <th>event_id_cnty</th>\n",
       "      <th>event_date</th>\n",
       "      <th>year</th>\n",
       "      <th>time_precision</th>\n",
       "      <th>event_type</th>\n",
       "      <th>sub_event_type</th>\n",
       "      <th>actor1</th>\n",
       "      <th>actor2</th>\n",
       "      <th>interaction</th>\n",
       "      <th>civilian_targeting</th>\n",
       "      <th>admin1</th>\n",
       "      <th>admin2</th>\n",
       "      <th>admin3</th>\n",
       "      <th>location</th>\n",
       "      <th>latitude</th>\n",
       "      <th>longitude</th>\n",
       "      <th>geo_precision</th>\n",
       "      <th>source</th>\n",
       "      <th>fatalities</th>\n",
       "      <th>regional_zone</th>\n",
       "    </tr>\n",
       "  </thead>\n",
       "  <tbody>\n",
       "    <tr>\n",
       "      <th>0</th>\n",
       "      <td>ETH10805</td>\n",
       "      <td>2023-10-20</td>\n",
       "      <td>2023</td>\n",
       "      <td>2</td>\n",
       "      <td>Battles</td>\n",
       "      <td>Armed clash</td>\n",
       "      <td>OLF: Oromo Liberation Front (Shane Splinter Fa...</td>\n",
       "      <td>Fano Youth Militia</td>\n",
       "      <td>23</td>\n",
       "      <td>NaN</td>\n",
       "      <td>Oromia</td>\n",
       "      <td>North Shewa</td>\n",
       "      <td>Dera</td>\n",
       "      <td>Gundo Meskel</td>\n",
       "      <td>10.250</td>\n",
       "      <td>38.733</td>\n",
       "      <td>2</td>\n",
       "      <td>Wazema Radio</td>\n",
       "      <td>3</td>\n",
       "      <td>North Shewa, Oro</td>\n",
       "    </tr>\n",
       "    <tr>\n",
       "      <th>1</th>\n",
       "      <td>ETH10816</td>\n",
       "      <td>2023-10-20</td>\n",
       "      <td>2023</td>\n",
       "      <td>2</td>\n",
       "      <td>Battles</td>\n",
       "      <td>Armed clash</td>\n",
       "      <td>OLF: Oromo Liberation Front (Shane Splinter Fa...</td>\n",
       "      <td>Military Forces of Ethiopia (2018-)</td>\n",
       "      <td>12</td>\n",
       "      <td>NaN</td>\n",
       "      <td>Oromia</td>\n",
       "      <td>West Shewa</td>\n",
       "      <td>Abuna Ginde Beret</td>\n",
       "      <td>Bake Kelate</td>\n",
       "      <td>9.614</td>\n",
       "      <td>37.985</td>\n",
       "      <td>2</td>\n",
       "      <td>Addis Maleda</td>\n",
       "      <td>10</td>\n",
       "      <td>West Shewa, Oro</td>\n",
       "    </tr>\n",
       "    <tr>\n",
       "      <th>2</th>\n",
       "      <td>ETH10840</td>\n",
       "      <td>2023-10-20</td>\n",
       "      <td>2023</td>\n",
       "      <td>2</td>\n",
       "      <td>Strategic developments</td>\n",
       "      <td>Other</td>\n",
       "      <td>Police Forces of Ethiopia (2018-) Oromia State...</td>\n",
       "      <td>Civilians (Ethiopia)</td>\n",
       "      <td>17</td>\n",
       "      <td>NaN</td>\n",
       "      <td>Oromia</td>\n",
       "      <td>East Wellega</td>\n",
       "      <td>Gobu Seyo</td>\n",
       "      <td>Ano</td>\n",
       "      <td>9.093</td>\n",
       "      <td>36.958</td>\n",
       "      <td>1</td>\n",
       "      <td>ESAT</td>\n",
       "      <td>0</td>\n",
       "      <td>East Wellega, Oro</td>\n",
       "    </tr>\n",
       "    <tr>\n",
       "      <th>3</th>\n",
       "      <td>ETH10799</td>\n",
       "      <td>2023-10-19</td>\n",
       "      <td>2023</td>\n",
       "      <td>1</td>\n",
       "      <td>Violence against civilians</td>\n",
       "      <td>Abduction/forced disappearance</td>\n",
       "      <td>OLF: Oromo Liberation Front (Shane Splinter Fa...</td>\n",
       "      <td>Civilians (China)</td>\n",
       "      <td>27</td>\n",
       "      <td>Civilian targeting</td>\n",
       "      <td>Oromia</td>\n",
       "      <td>North Shewa</td>\n",
       "      <td>Fiche town</td>\n",
       "      <td>Fiche</td>\n",
       "      <td>9.800</td>\n",
       "      <td>38.733</td>\n",
       "      <td>1</td>\n",
       "      <td>EMS</td>\n",
       "      <td>0</td>\n",
       "      <td>North Shewa, Oro</td>\n",
       "    </tr>\n",
       "    <tr>\n",
       "      <th>4</th>\n",
       "      <td>ETH10803</td>\n",
       "      <td>2023-10-19</td>\n",
       "      <td>2023</td>\n",
       "      <td>1</td>\n",
       "      <td>Battles</td>\n",
       "      <td>Armed clash</td>\n",
       "      <td>Military Forces of Ethiopia (2018-)</td>\n",
       "      <td>Fano Youth Militia</td>\n",
       "      <td>13</td>\n",
       "      <td>NaN</td>\n",
       "      <td>Amhara</td>\n",
       "      <td>West Gojam</td>\n",
       "      <td>Bure town</td>\n",
       "      <td>Bure</td>\n",
       "      <td>10.700</td>\n",
       "      <td>37.067</td>\n",
       "      <td>2</td>\n",
       "      <td>EMS</td>\n",
       "      <td>10</td>\n",
       "      <td>West Gojam, Amh</td>\n",
       "    </tr>\n",
       "  </tbody>\n",
       "</table>\n",
       "</div>"
      ],
      "text/plain": [
       "  event_id_cnty event_date  year  time_precision                  event_type  \\\n",
       "0      ETH10805 2023-10-20  2023               2                     Battles   \n",
       "1      ETH10816 2023-10-20  2023               2                     Battles   \n",
       "2      ETH10840 2023-10-20  2023               2      Strategic developments   \n",
       "3      ETH10799 2023-10-19  2023               1  Violence against civilians   \n",
       "4      ETH10803 2023-10-19  2023               1                     Battles   \n",
       "\n",
       "                   sub_event_type  \\\n",
       "0                     Armed clash   \n",
       "1                     Armed clash   \n",
       "2                           Other   \n",
       "3  Abduction/forced disappearance   \n",
       "4                     Armed clash   \n",
       "\n",
       "                                              actor1  \\\n",
       "0  OLF: Oromo Liberation Front (Shane Splinter Fa...   \n",
       "1  OLF: Oromo Liberation Front (Shane Splinter Fa...   \n",
       "2  Police Forces of Ethiopia (2018-) Oromia State...   \n",
       "3  OLF: Oromo Liberation Front (Shane Splinter Fa...   \n",
       "4                Military Forces of Ethiopia (2018-)   \n",
       "\n",
       "                                actor2  interaction  civilian_targeting  \\\n",
       "0                   Fano Youth Militia           23                 NaN   \n",
       "1  Military Forces of Ethiopia (2018-)           12                 NaN   \n",
       "2                 Civilians (Ethiopia)           17                 NaN   \n",
       "3                    Civilians (China)           27  Civilian targeting   \n",
       "4                   Fano Youth Militia           13                 NaN   \n",
       "\n",
       "   admin1        admin2             admin3      location  latitude  longitude  \\\n",
       "0  Oromia   North Shewa               Dera  Gundo Meskel    10.250     38.733   \n",
       "1  Oromia    West Shewa  Abuna Ginde Beret   Bake Kelate     9.614     37.985   \n",
       "2  Oromia  East Wellega          Gobu Seyo           Ano     9.093     36.958   \n",
       "3  Oromia   North Shewa         Fiche town         Fiche     9.800     38.733   \n",
       "4  Amhara    West Gojam          Bure town          Bure    10.700     37.067   \n",
       "\n",
       "   geo_precision        source  fatalities      regional_zone  \n",
       "0              2  Wazema Radio           3   North Shewa, Oro  \n",
       "1              2  Addis Maleda          10    West Shewa, Oro  \n",
       "2              1          ESAT           0  East Wellega, Oro  \n",
       "3              1           EMS           0   North Shewa, Oro  \n",
       "4              2           EMS          10    West Gojam, Amh  "
      ]
     },
     "execution_count": 115,
     "metadata": {},
     "output_type": "execute_result"
    }
   ],
   "source": [
    "# Remove columns that are not going to be used for analysis \n",
    "data = data.drop(columns=[\"disorder_type\", \"assoc_actor_1\", \"inter1\", \"assoc_actor_2\", \"inter2\", \"iso\", \"region\", \"country\", \"timestamp\", \"tags\", \"notes\", \"source_scale\"])\n",
    "\n",
    "data.head()"
   ]
  },
  {
   "cell_type": "code",
   "execution_count": null,
   "id": "d650660b",
   "metadata": {},
   "outputs": [],
   "source": [
    "# Check if the we have all the columns we want\n",
    "\n",
    "print(data.columns)"
   ]
  },
  {
   "cell_type": "markdown",
   "id": "07cceb1b",
   "metadata": {},
   "source": [
    "### <font color = \"seagreen\"> 2.3.3. Checking for Null Values </font>"
   ]
  },
  {
   "cell_type": "code",
   "execution_count": null,
   "id": "54536f6e",
   "metadata": {},
   "outputs": [],
   "source": [
    "# Check if there are null values in all of the columns\n",
    "null_values = data.isnull().sum()\n",
    "\n",
    "print(null_values)"
   ]
  },
  {
   "cell_type": "markdown",
   "id": "da1231fc",
   "metadata": {},
   "source": [
    "> There are **2029** null values in 'actor2' and **7660** in 'civilian_targeting' columns"
   ]
  },
  {
   "cell_type": "code",
   "execution_count": null,
   "id": "5da14835",
   "metadata": {},
   "outputs": [],
   "source": [
    "# We can replace the null value of the actors with 'Unknown'\n",
    "data[\"actor2\"].fillna(\"Unknown\", inplace = True)\n",
    "\n",
    "# The null values in this columns are events that are not targetting civilians\n",
    "data[\"civilian_targeting\"].fillna(\"Not Targeting\", inplace = True)"
   ]
  },
  {
   "cell_type": "code",
   "execution_count": null,
   "id": "72f7a375",
   "metadata": {},
   "outputs": [],
   "source": [
    "# let's check again\n",
    "null_values = data.isnull().sum()\n",
    "\n",
    "print(null_values)"
   ]
  },
  {
   "cell_type": "code",
   "execution_count": null,
   "id": "9a4139ae",
   "metadata": {},
   "outputs": [],
   "source": [
    "# Check that we are working with the data types we want\n",
    "data.dtypes"
   ]
  },
  {
   "cell_type": "code",
   "execution_count": null,
   "id": "59be041a",
   "metadata": {},
   "outputs": [],
   "source": [
    "# Save the cleaned dataframe to an excel file\n",
    "data.to_excel(\"ethiopia_conflict_data_cleaned.xlsx\")"
   ]
  },
  {
   "cell_type": "markdown",
   "id": "171d6d0b",
   "metadata": {},
   "source": [
    "> **We have cleaned the data and saved it as a new file. Now we can proceed to the analysis.**"
   ]
  },
  {
   "cell_type": "markdown",
   "id": "e0d91c6b",
   "metadata": {},
   "source": [
    "# <a id=\"3.\"><font color = \"brown\"> 3. Data Analysis </font></a>"
   ]
  },
  {
   "cell_type": "code",
   "execution_count": null,
   "id": "6e2c8960",
   "metadata": {},
   "outputs": [],
   "source": [
    "# Load the clean data\n",
    "data = pd.read_excel(\"ethiopia_conflict_data_cleaned.xlsx\")"
   ]
  },
  {
   "cell_type": "markdown",
   "id": "e20593f0",
   "metadata": {},
   "source": [
    "## <a id=\"3.1.\"><font color = \"seagreen\"> 3.1. Fatality Rate Over the Years  </font></a>"
   ]
  },
  {
   "cell_type": "code",
   "execution_count": null,
   "id": "ac943f45",
   "metadata": {},
   "outputs": [],
   "source": [
    "# Create a pivot table\n",
    "summary_by_year = data.groupby('year').agg(\n",
    "    total_fatalities=('fatalities', 'sum'),\n",
    "    total_events=('year', 'count')\n",
    ")\n",
    "summary_by_year['fatality_rate'] = summary_by_year['total_fatalities'] / summary_by_year['total_events']\n",
    "\n",
    "# Reset the index to make 'year' a regular column\n",
    "summary_by_year.reset_index(inplace=True)\n",
    "\n",
    "# Convert the 'year' column to integers\n",
    "summary_by_year['year'] = summary_by_year['year'].astype(int)"
   ]
  },
  {
   "cell_type": "code",
   "execution_count": null,
   "id": "97c8578a",
   "metadata": {},
   "outputs": [],
   "source": [
    "# Create the plot\n",
    "plt.figure(figsize=(10, 6))\n",
    "plt.plot(summary_by_year['year'], summary_by_year['fatality_rate'], label='Fatality Rate')\n",
    "\n",
    "# Set the title and labels\n",
    "plt.title('Fatality Rate Trend Over Years')\n",
    "plt.xlabel('Year')\n",
    "plt.ylabel('Fatality Rate')\n",
    "\n",
    "# You can make the grid visible by making this 'True'\n",
    "plt.grid(False)\n",
    "\n",
    "# Show the plot\n",
    "plt.show()"
   ]
  },
  {
   "cell_type": "code",
   "execution_count": null,
   "id": "700025b5",
   "metadata": {},
   "outputs": [],
   "source": [
    "# Create the plot\n",
    "plt.figure(figsize=(10, 6))\n",
    "\n",
    "# Bar plot for total fatalities\n",
    "plt.bar(summary_by_year['year'], summary_by_year['total_fatalities'], color='lightcoral', label='Total Fatalities')\n",
    "\n",
    "# Bar plot for total events\n",
    "plt.bar(summary_by_year['year'], summary_by_year['total_events'], color='skyblue', label='Total Events', bottom=summary_by_year['total_fatalities'])\n",
    "\n",
    "# Line plot for fatality rate\n",
    "plt.plot(summary_by_year['year'], summary_by_year['fatality_rate'] * 50, color='lightgreen', label='Fatality Rate')  # Multiply by 50 for better scale\n",
    "\n",
    "# Set the title and labels\n",
    "plt.title('Summary by Year')\n",
    "plt.xlabel('Year')\n",
    "plt.ylabel('Count / Rate')\n",
    "\n",
    "# Set the legend\n",
    "plt.legend(title='', loc='upper right')\n",
    "\n",
    "# You can make the grid visible by making this 'True'\n",
    "plt.grid(False)\n",
    "\n",
    "# Show the plot\n",
    "plt.show()"
   ]
  },
  {
   "cell_type": "markdown",
   "id": "8c8e519d",
   "metadata": {},
   "source": [
    "### <font color = \"seagreen\"> 3.1.1. Top Fatalities and Events by Year  </font>"
   ]
  },
  {
   "cell_type": "code",
   "execution_count": null,
   "id": "7327a9eb",
   "metadata": {},
   "outputs": [],
   "source": [
    "# Sort the data by total_events and total_fatalities in descending order and select the top 5 for each\n",
    "top_events = summary_by_year.sort_values(by=['total_events'], ascending=False).head(5)\n",
    "top_fatalities = summary_by_year.sort_values(by=['total_fatalities'], ascending=False).head(5)\n",
    "\n",
    "# Create a figure and axis for the subplots\n",
    "fig, axs = plt.subplots(1, 2, figsize=(12, 6))\n",
    "\n",
    "# Bar plot for top 5 years based on event count\n",
    "axs[0].bar(top_events['year'], top_events['total_events'], color= 'skyblue', width = 0.3)\n",
    "axs[0].set_title('Top 5 Years Based on Event Count')\n",
    "axs[0].set_xlabel('Year')\n",
    "axs[0].set_ylabel('Total Events')\n",
    "axs[0].set_xticks(top_events['year'])  # Explicitly set x-axis ticks\n",
    "axs[0].tick_params(axis='x', rotation=45)  # Rotate x-axis ticks\n",
    "\n",
    "# Bar plot for top 5 years based on sum of fatalities\n",
    "axs[1].bar(top_fatalities['year'], top_fatalities['total_fatalities'], color= 'lightcoral', width = 0.7)\n",
    "axs[1].set_title('Top 5 Years Based on Sum of Fatalities')\n",
    "axs[1].set_xlabel('Year')\n",
    "axs[1].set_ylabel('Total Fatalities')\n",
    "axs[1].set_xticks(top_fatalities['year'])  # Explicitly set x-axis ticks\n",
    "axs[1].tick_params(axis='x', rotation=45)  # Rotate x-axis ticks\n",
    "\n",
    "# Adjust layout for better spacing\n",
    "plt.tight_layout()\n",
    "\n",
    "# Show the plot\n",
    "plt.show()"
   ]
  },
  {
   "cell_type": "markdown",
   "id": "96e17fae",
   "metadata": {},
   "source": [
    "**Key Observation**\n",
    "\n",
    "1. Total Fatalities and Events:\n",
    "> Total number of fatalities varies significantly across the years, with notable peaks in 1999, the reason there is an outlier     during **1999** due to the **Eritrean–Ethiopian War.**\n",
    "> Years like 2021, 2022 also stand out with **both** exceptionally high fatality rate and number of events. \n",
    "2. Top 5 Years by Total Events:\n",
    "> The year 2021 records the highest number of total events, closely trailed by 2022, 2016, 2023, and 2018.\n",
    "3. Top 5 Years by Total Fatalities:\n",
    "> Notably, 1999 stands out as the year with the highest total fatalities, succeeded by 2021, 2022, 2002, and 2020."
   ]
  },
  {
   "cell_type": "markdown",
   "id": "b5d0472c",
   "metadata": {},
   "source": [
    "## <a id=\"3.2.\"><font color = \"seagreen\"> 3.2. What Kinds of Events are the Frequent Reasons for Conflict?  </font></a>"
   ]
  },
  {
   "cell_type": "code",
   "execution_count": null,
   "id": "5c628950",
   "metadata": {},
   "outputs": [],
   "source": [
    "# Create a pivot table of top events\n",
    "event_count = data.groupby('event_type').size().reset_index(name='total_event')\n",
    "event_count = event_count.sort_values('total_event', ascending=False)\n",
    "\n",
    "# Create the plot\n",
    "plt.figure(figsize=(8, 5))\n",
    "plt.barh(y=event_count['event_type'][::-1], width=event_count['total_event'][::-1], color='skyblue')\n",
    "plt.title('Distribution of Event Types')\n",
    "plt.xlabel('Total Events')\n",
    "plt.ylabel('Event Type')\n",
    "plt.grid(axis='x')\n",
    "\n",
    "# You can make the grid visible by making this 'True'\n",
    "plt.grid(False)\n",
    "\n",
    "plt.show()"
   ]
  },
  {
   "cell_type": "markdown",
   "id": "aedcd6dc",
   "metadata": {},
   "source": [
    "> The bar chart highlights that **'Battles'** emerge as the predominant event type in the conflict, surpassing other categories in frequency. This suggests that armed clashes and military engagements are the most prevalent forms of conflict events within the dataset."
   ]
  },
  {
   "cell_type": "markdown",
   "id": "4908f7ac",
   "metadata": {},
   "source": [
    "## <a id=\"3.3.\"><font color = \"seagreen\"> 3.3. Who are the Major Actors? </font></a>"
   ]
  },
  {
   "cell_type": "code",
   "execution_count": null,
   "id": "f345b4cb",
   "metadata": {},
   "outputs": [],
   "source": [
    "# Create a pivot table of top actors\n",
    "actor_count1 = data.groupby('actor1').size().reset_index(name='total_events')\n",
    "actor_count1 = actor_count1.sort_values('total_events', ascending=False)\n",
    "\n",
    "# Let's remove the 'Uknown' values we have replaced the Null with\n",
    "data_filtered = data[data['actor2'] != \"Unknown\"]\n",
    "actor_count2 = data_filtered.groupby('actor2').size().reset_index(name='total_events')\n",
    "actor_count2 = actor_count2.sort_values('total_events', ascending=False)\n",
    "\n",
    "# Create the plot\n",
    "fig, axs = plt.subplots(1, 2, figsize=(15, 5))\n",
    "\n",
    "axs[0].barh(y=actor_count1['actor1'][:5][::-1], width=actor_count1['total_events'][:5][::-1], color='lightcoral')\n",
    "axs[0].set_title('Major Actors 1')\n",
    "axs[0].set_xlabel('Total Events')\n",
    "axs[0].set_ylabel('Actor1')\n",
    "#axs[0].grid(axis='x') # Uncomment this to make the grid visible\n",
    "\n",
    "\n",
    "axs[1].barh(y=actor_count2['actor2'][:5][::-1], width=actor_count2['total_events'][:5][::-1], color='skyblue')\n",
    "axs[1].set_title('Major Actors 2')\n",
    "axs[1].set_xlabel('Total Events')\n",
    "axs[1].set_ylabel('Actor2')\n",
    "#axs[1].grid(axis='x')\n",
    "\n",
    "\n",
    "plt.tight_layout()\n",
    "plt.show()"
   ]
  },
  {
   "cell_type": "markdown",
   "id": "b20c0abf",
   "metadata": {},
   "source": [
    "> As we can see from the graph, **'Protesters'** are number one actors."
   ]
  },
  {
   "cell_type": "markdown",
   "id": "8dea8edf",
   "metadata": {},
   "source": [
    "## <a id=\"3.4.\"><font color = \"seagreen\"> 3.4. Which Places are Most Prone to Conflict? </font></a>"
   ]
  },
  {
   "cell_type": "code",
   "execution_count": null,
   "id": "7294e95d",
   "metadata": {},
   "outputs": [],
   "source": [
    "# Group by 'admin1' and 'location' and count events\n",
    "event_by_reg = data.groupby('admin1').size().reset_index(name='total_event')\n",
    "event_by_reg = event_by_reg.sort_values('total_event', ascending=False)\n",
    "\n",
    "event_by_loc = data.groupby('location').size().reset_index(name='total_event')\n",
    "event_by_loc = event_by_loc.sort_values('total_event', ascending=False)\n",
    "\n",
    "# Creat the Plot\n",
    "fig, axs = plt.subplots(1, 2, figsize=(15, 5))\n",
    "\n",
    "axs[0].bar(x=event_by_reg['admin1'][:5], height=event_by_reg['total_event'][:5], color='skyblue')\n",
    "axs[0].set_title('Event by Region')\n",
    "axs[0].set_xlabel('Regions')\n",
    "axs[0].set_ylabel('Total Events')\n",
    "# axs[0].grid(axis='y')  # Uncomment this to make the grid visible\n",
    "\n",
    "axs[1].bar(x=event_by_loc['location'][:5], height=event_by_loc['total_event'][:5], color='lightcoral')\n",
    "axs[1].set_title('Event by Location')\n",
    "axs[1].set_xlabel('Location')\n",
    "axs[1].set_ylabel('Total Events')\n",
    "# axs[1].grid(axis='y')\n",
    "\n",
    "plt.tight_layout()\n",
    "plt.show()"
   ]
  },
  {
   "cell_type": "markdown",
   "id": "db764da9",
   "metadata": {},
   "source": [
    "From the above analysis, we can observe that:\n",
    "\n",
    "**1. High Incidence Regions:-**\n",
    "\n",
    "**Oromia**, with a total of **4594 events**, stands out as the region with the highest incidence of political violence.\n",
    "\n",
    "**Amhara** and **Tigray** follow with **1970** and **1271 events**, respectively.\n",
    "\n",
    "**2. Location-Specific Hotspots:-**\n",
    "\n",
    "**Addis Ababa** is a specific location with a noteworthy **468 events**, indicating a concentration of political events in the capital city.\n",
    "\n",
    "**Jijiga**, with **269 events**, is a notable hotspot outside the major regions.\n",
    "\n",
    "These points suggest that **Oromia**, **Amhara**, and **Tigray** experience a relatively higher frequency of political events, and in a specific locations like **Addis Ababa** and **Jijiga**."
   ]
  },
  {
   "cell_type": "markdown",
   "id": "09f08434",
   "metadata": {},
   "source": [
    "## <a id=\"3.5.\"><font color = \"seagreen\"> 3.5. Which Media(s) Has Been the Main Source(s) of the Conflict News </font></a>"
   ]
  },
  {
   "cell_type": "code",
   "execution_count": null,
   "id": "bb215244",
   "metadata": {},
   "outputs": [],
   "source": [
    "# Group by 'source' and count events\n",
    "source_summary = data.groupby('source').size().reset_index(name='total_events')\n",
    "source_summary = source_summary.sort_values('total_events', ascending=False)\n",
    "\n",
    "# Plot\n",
    "plt.figure(figsize=(10, 6))\n",
    "plt.barh(y=source_summary['source'][:5][::-1], width=source_summary['total_events'][:5][::-1], color='lightcoral')\n",
    "plt.title('Top Media Sources of Conflict News')\n",
    "plt.xlabel('Total Events')\n",
    "plt.ylabel('Source')\n",
    "plt.grid(False)\n",
    "plt.show()"
   ]
  },
  {
   "cell_type": "markdown",
   "id": "58ce1c05",
   "metadata": {},
   "source": [
    "> **Oromiya Media Network** is the number one source of conflict news, as we can observe from the above graph."
   ]
  },
  {
   "cell_type": "markdown",
   "id": "c03d36ef",
   "metadata": {},
   "source": [
    "## <a id=\"3.6.\"><font color = \"seagreen\"> 3.6. Is There a Correlation between Specific Actor Interactions and the Level of Violence in Conflict Events? </font></a>"
   ]
  },
  {
   "cell_type": "code",
   "execution_count": null,
   "id": "d46b4a3f",
   "metadata": {},
   "outputs": [],
   "source": [
    "# Group by 'actor1', 'actor2', and 'interaction' and sum 'fatalities'\n",
    "actor_intr_summary = data.groupby(['actor1', 'actor2', 'interaction'])['fatalities'].sum().reset_index(name='total_fatalities')\n",
    "\n",
    "# Calculate correlation coefficient\n",
    "correl_coeffi = actor_intr_summary['interaction'].corr(actor_intr_summary['total_fatalities'])\n",
    "print(f\"Correlation Coefficient: {correl_coeffi}\")\n",
    "\n",
    "# Plot\n",
    "plt.figure(figsize=(10, 6))\n",
    "plt.scatter(actor_intr_summary['interaction'], actor_intr_summary['total_fatalities'], color = 'skyblue')\n",
    "plt.xlabel('Actor Interaction')\n",
    "plt.ylabel('Total Fatalities')\n",
    "plt.title('Correlation between Actor Interaction and Fatalities')\n",
    "plt.show()"
   ]
  },
  {
   "cell_type": "markdown",
   "id": "9e6f5f61",
   "metadata": {},
   "source": [
    "**Observation:**\n",
    "\n",
    "> A correlation coefficient of **-0.037** suggests a very weak negative correlation between the specific actor interactions and the level of violence in conflict events. However, the correlation is close to zero, so the relationship between these variables is weak, and there isn’t a clear linear association between them."
   ]
  },
  {
   "cell_type": "markdown",
   "id": "7f5533bf",
   "metadata": {},
   "source": [
    "## <a id=\"3.7.\"><font color = \"seagreen\"> 3.7. What Is the Tmpact of Civilian Targeting in Conflict Events, and Are There Any Trends Related to This?  </font><a/>"
   ]
  },
  {
   "cell_type": "code",
   "execution_count": 103,
   "id": "37e1af46",
   "metadata": {},
   "outputs": [
    {
     "data": {
      "image/png": "[encoded data removed]",
      "text/plain": [
       "<Figure size 300x300 with 1 Axes>"
      ]
     },
     "metadata": {},
     "output_type": "display_data"
    }
   ],
   "source": [
    "# Count occurrences of each unique value\n",
    "value_counts = data['civilian_targeting'].value_counts()\n",
    "\n",
    "# Create a pie chart\n",
    "plt.figure(figsize=(3, 3))\n",
    "plt.pie(value_counts, labels=value_counts.index, autopct='%1.1f%%', startangle=90, colors=['skyblue', 'lightcoral'])\n",
    "plt.title('Percent of events that are:')\n",
    "plt.show()"
   ]
  },
  {
   "cell_type": "code",
   "execution_count": 102,
   "id": "d246bf18",
   "metadata": {},
   "outputs": [
    {
     "data": {
      "image/png": "[encoded data removed]",
      "text/plain": [
       "<Figure size 800x400 with 1 Axes>"
      ]
     },
     "metadata": {},
     "output_type": "display_data"
    }
   ],
   "source": [
    "# Select a specific value in the 'civilian_targeting' column\n",
    "filtered_data = data[data['civilian_targeting'] == 'Civilian targeting']\n",
    "\n",
    "# Group by 'year' and sum of 'fatalities'\n",
    "summary_data = filtered_data.groupby('year')['fatalities'].sum().reset_index()\n",
    "\n",
    "# Create the plot\n",
    "plt.figure(figsize=(8, 4))\n",
    "plt.bar(summary_data['year'], summary_data['fatalities'], color='lightcoral')\n",
    "plt.title(f'Time Series Trend of Category Civilian Targeting Over Years')\n",
    "plt.xlabel('Year')\n",
    "plt.ylabel('Sum of Fatalities')\n",
    "#plt.grid(axis='y')\n",
    "plt.show()"
   ]
  },
  {
   "cell_type": "markdown",
   "id": "4450e999",
   "metadata": {},
   "source": [
    "**Observation:**\n",
    "\n",
    "> Although the overall percentage of events that targeted civilians is less than one-third, there is a discernible upward trend in civilian targeting incidents over recent years. The increase in such events is particularly notable, suggesting a concerning pattern of conflict dynamics wherein civilians are increasingly becoming targets."
   ]
  },
  {
   "cell_type": "markdown",
   "id": "6fe8c028",
   "metadata": {},
   "source": [
    "## <a id=\"3.8.\"><font color = \"seagreen\"> 3.8. How Do Different Administrative Divisions (ADMIN1, ADMIN2, ADMIN3) Relate to the Frequency and Nature of Conflict Events?  </font><a/>"
   ]
  },
  {
   "cell_type": "code",
   "execution_count": 118,
   "id": "a6758ea9",
   "metadata": {},
   "outputs": [
    {
     "data": {
      "image/png": "[encoded data removed]",
      "text/plain": [
       "<Figure size 1500x600 with 3 Axes>"
      ]
     },
     "metadata": {},
     "output_type": "display_data"
    }
   ],
   "source": [
    "# Summarize by ADMIN1\n",
    "events_by_admin1 = data.groupby('admin1').size().reset_index(name='total_events_admin1')\n",
    "\n",
    "# Summarize by ADMIN2\n",
    "events_by_admin2 = data.groupby('admin2').size().reset_index(name='total_events_admin2')\n",
    "\n",
    "# Summarize by ADMIN3\n",
    "events_by_admin3 = data.groupby('admin3').size().reset_index(name='total_events_admin3')\n",
    "\n",
    "# Function to plot bar chart for an administrative level\n",
    "def plot_admin_level(data, level):\n",
    "    plt.bar(data[level], data[f'total_events_{level}'], color='skyblue', width=0.4)\n",
    "    plt.title(f'Top 5 Events by {level}')\n",
    "    plt.xlabel(level)\n",
    "    plt.ylabel('Total Events')\n",
    "    plt.xticks(rotation=45)\n",
    "\n",
    "# Create subplots\n",
    "fig, axs = plt.subplots(1, 3, figsize=(15, 6))\n",
    "\n",
    "# Select top 5 for each administrative level\n",
    "top5_events_by_admin1 = events_by_admin1.nlargest(5, 'total_events_admin1')\n",
    "top5_events_by_admin2 = events_by_admin2.nlargest(5, 'total_events_admin2')\n",
    "top5_events_by_admin3 = events_by_admin3.nlargest(5, 'total_events_admin3')\n",
    "\n",
    "# Plot each administrative level side by side\n",
    "plt.subplot(1, 3, 1)\n",
    "plot_admin_level(top5_events_by_admin1, 'admin1')\n",
    "\n",
    "plt.subplot(1, 3, 2)\n",
    "plot_admin_level(top5_events_by_admin2, 'admin2')\n",
    "\n",
    "plt.subplot(1, 3, 3)\n",
    "plot_admin_level(top5_events_by_admin3, 'admin3')\n",
    "\n",
    "# Adjust layout for better spacing\n",
    "plt.tight_layout()\n",
    "\n",
    "# Display the plots\n",
    "plt.show()"
   ]
  },
  {
   "cell_type": "markdown",
   "id": "2960f845",
   "metadata": {},
   "source": [
    "**Administrative Divisions and Conflict Events:**\n",
    "\n",
    "> Significant variation in conflict events is observed across administrative divisions.\n",
    "\n",
    "> Certain regions, such as Oromia and Amhara, consistently stand out with high conflict frequency.\n",
    "\n",
    "> The capital city Addis Ababa and other towns like Lideta and Jigjiga show concentrated political events.\n",
    "\n",
    "> West Shewa, East Hararge, and North Shewa emerge as hotspots at the ADMIN2 level, emphasizing regional disparities.\n",
    "\n",
    "> Specific towns like Gonder, Ambo, and Nekemte play noteworthy roles at the ADMIN3 level.\n",
    "\n",
    "These patterns suggest that understanding conflict dynamics requires considering both administrative and geographical contexts."
   ]
  },
  {
   "cell_type": "markdown",
   "id": "852df985",
   "metadata": {},
   "source": [
    "# <a id=\"4.\"><font color = \"brown\"> 4. Conclusions and Recommendations </font><a/>"
   ]
  },
  {
   "cell_type": "markdown",
   "id": "af76e1d8",
   "metadata": {},
   "source": [
    "## <a id=\"4.1.\"><font color = \"seagreen\"> 4.1. Conclusions </font><a/>"
   ]
  },
  {
   "cell_type": "markdown",
   "id": "7b1e96e4",
   "metadata": {},
   "source": [
    "**Regional Disparities:**\n",
    "\n",
    "> Conflict events in Ethiopia are not uniform and exhibit regional disparities. Regions like Oromia and Amhara consistently experience higher frequencies of conflict.\n",
    "\n",
    "**Urban Concentration:**\n",
    "\n",
    "> Urban centers, including the capital city Addis Ababa, and specific towns like Lideta and Jigjiga, are focal points for political events.\n",
    "\n",
    "**Temporal Trends:**\n",
    "\n",
    "> Examining trends over time reveals fluctuations, suggesting a dynamic socio-political landscape."
   ]
  },
  {
   "cell_type": "markdown",
   "id": "909f2f86",
   "metadata": {},
   "source": [
    "## <a id=\"4.2.\"><font color = \"seagreen\"> 4.2. Recommendations </font><a/>"
   ]
  },
  {
   "cell_type": "markdown",
   "id": "f1585634",
   "metadata": {},
   "source": [
    "**Enhanced Monitoring:**\n",
    "\n",
    "> Implement a robust monitoring system, especially in high-conflict regions, to promptly identify and respond to emerging issues.\n",
    "\n",
    "**Community Engagement:**\n",
    "\n",
    "> Foster community engagement and dialogue to address underlying issues contributing to conflict, emphasizing local context.\n",
    "\n",
    "**Urban Security Measures:**\n",
    "\n",
    "> Implement targeted security measures in urban centers to mitigate the impact of conflict events, especially in capital regions.\n",
    "\n",
    "**Data-Driven Policies:**\n",
    "\n",
    "> Utilize data analytics for evidence-based policy formulation, adapting strategies based on changing conflict dynamics.\n",
    "\n",
    "**Collaborative Initiatives:**\n",
    "\n",
    "> Collaborate with local and international stakeholders to address conflict at various administrative levels and promote peace-building efforts."
   ]
  },
  {
   "cell_type": "markdown",
   "id": "a10994a9",
   "metadata": {},
   "source": [
    "> #  <font color = \"green\"> Harmony in Diversity! </font>\n",
    "\n",
    "> #  <font color = \"gold\"> Progress in Unity! </font>\n",
    "\n",
    "> #  <font color = \"red\"> Nurturing Peace for a Flourishing Ethiopia! </font>"
   ]
  }
 ],
 "metadata": {
  "kernelspec": {
   "display_name": "Python 3 (ipykernel)",
   "language": "python",
   "name": "python3"
  },
  "language_info": {
   "codemirror_mode": {
    "name": "ipython",
    "version": 3
   },
   "file_extension": ".py",
   "mimetype": "text/x-python",
   "name": "python",
   "nbconvert_exporter": "python",
   "pygments_lexer": "ipython3",
   "version": "3.11.5"
  }
 },
 "nbformat": 4,
 "nbformat_minor": 5
}
